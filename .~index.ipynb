{
 "cells": [
  {
   "cell_type": "markdown",
   "metadata": {},
   "source": [
    "# JSON and XML - Lab"
   ]
  },
  {
   "cell_type": "markdown",
   "metadata": {},
   "source": [
    "## Introduction\n",
    "\n",
    "In this lab, we'll continue investigating new formats for datasets. Specifically, we'll investigate two of the most popular data formats for the web: JSON and XML including strenghts and weaknesses."
   ]
  },
  {
   "cell_type": "markdown",
   "metadata": {},
   "source": [
    "## Objectives\n",
    "You will be able to:\n",
    "* Effectively use the JSON module to load and parse JSON documents\n",
    "* Read and access data stored in JSON and XML\n",
    "* Compare  and contrast the JSON and XML as data interchange types\n"
   ]
  },
  {
   "cell_type": "markdown",
   "metadata": {},
   "source": [
    "## XML"
   ]
  },
  {
   "cell_type": "code",
   "execution_count": 1,
   "metadata": {},
   "outputs": [],
   "source": [
    "import xml.etree.ElementTree as ET"
   ]
  },
  {
   "cell_type": "markdown",
   "metadata": {},
   "source": [
    "### Create an XML tree and retrieve the root tag."
   ]
  },
  {
   "cell_type": "code",
   "execution_count": 2,
   "metadata": {},
   "outputs": [],
   "source": [
    "tree = ET.parse('nyc_2001_campaign_finance.xml')"
   ]
  },
  {
   "cell_type": "code",
   "execution_count": 3,
   "metadata": {},
   "outputs": [],
   "source": [
    "root = tree.getroot()"
   ]
  },
  {
   "cell_type": "code",
   "execution_count": 4,
   "metadata": {},
   "outputs": [
    {
     "name": "stdout",
     "output_type": "stream",
     "text": [
      "row {}\n"
     ]
    }
   ],
   "source": [
    "for child in root:\n",
    "    print(child.tag, child.attrib)"
   ]
  },
  {
   "cell_type": "markdown",
   "metadata": {},
   "source": [
    "### How many direct descendents does the root tag have?"
   ]
  },
  {
   "cell_type": "code",
   "execution_count": 6,
   "metadata": {},
   "outputs": [
    {
     "name": "stdout",
     "output_type": "stream",
     "text": [
      "1\n"
     ]
    }
   ],
   "source": [
    "#Answer: 1\n",
    "print(len(root))"
   ]
  },
  {
   "cell_type": "markdown",
   "metadata": {},
   "source": [
    "### How many different types of tags are there within the entire XML file?"
   ]
  },
  {
   "cell_type": "code",
   "execution_count": 7,
   "metadata": {},
   "outputs": [
    {
     "data": {
      "text/plain": [
       "{'test'}"
      ]
     },
     "execution_count": 7,
     "metadata": {},
     "output_type": "execute_result"
    }
   ],
   "source": [
    "{'test'}"
   ]
  },
  {
   "cell_type": "code",
   "execution_count": 9,
   "metadata": {},
   "outputs": [
    {
     "data": {
      "text/plain": [
       "13"
      ]
     },
     "execution_count": 9,
     "metadata": {},
     "output_type": "execute_result"
    }
   ],
   "source": [
    "unique_tags = set()\n",
    "for element in root.iter():\n",
    "    unique_tags.add(element.tag)\n",
    "    \n",
    "len(unique_tags)"
   ]
  },
  {
   "cell_type": "markdown",
   "metadata": {},
   "source": [
    "### Create a DataFrame listing the number of each type of tag. \n",
    "Sort the DataFrame in descending order by the tag count. The first entry should demonstrate there are 286 row tags in the XML file.   \n",
    "(Your DataFrame will be a single column, so could also be thought of as a Series.)"
   ]
  },
  {
   "cell_type": "code",
   "execution_count": 12,
   "metadata": {},
   "outputs": [],
   "source": [
    "import pandas as pd\n",
    "from collections import Counter"
   ]
  },
  {
   "cell_type": "code",
   "execution_count": 14,
   "metadata": {},
   "outputs": [
    {
     "data": {
      "text/plain": [
       "Counter({<Element 'row' at 0x7f19dc3d35e8>: 1,\n",
       "         <Element 'row' at 0x7f19dc3d3688>: 1,\n",
       "         <Element 'row' at 0x7f19dc3d3818>: 1,\n",
       "         <Element 'row' at 0x7f19dc3d3b88>: 1,\n",
       "         <Element 'row' at 0x7f19dc3d3ef8>: 1,\n",
       "         <Element 'row' at 0x7f19dc1452c8>: 1,\n",
       "         <Element 'row' at 0x7f19dc145638>: 1,\n",
       "         <Element 'row' at 0x7f19dc1459a8>: 1,\n",
       "         <Element 'row' at 0x7f19dc145d18>: 1,\n",
       "         <Element 'row' at 0x7f19dc1480e8>: 1,\n",
       "         <Element 'row' at 0x7f19dc148458>: 1,\n",
       "         <Element 'row' at 0x7f19dc1487c8>: 1,\n",
       "         <Element 'row' at 0x7f19dc148b38>: 1,\n",
       "         <Element 'row' at 0x7f19dc148ea8>: 1,\n",
       "         <Element 'row' at 0x7f19dc149228>: 1,\n",
       "         <Element 'row' at 0x7f19dc149598>: 1,\n",
       "         <Element 'row' at 0x7f19dc149958>: 1,\n",
       "         <Element 'row' at 0x7f19dc149cc8>: 1,\n",
       "         <Element 'row' at 0x7f19dc14b098>: 1,\n",
       "         <Element 'row' at 0x7f19dc14b408>: 1,\n",
       "         <Element 'row' at 0x7f19dc14b778>: 1,\n",
       "         <Element 'row' at 0x7f19dc14ba98>: 1,\n",
       "         <Element 'row' at 0x7f19dc14be08>: 1,\n",
       "         <Element 'row' at 0x7f19dc14f1d8>: 1,\n",
       "         <Element 'row' at 0x7f19dc14f548>: 1,\n",
       "         <Element 'row' at 0x7f19dc14f8b8>: 1,\n",
       "         <Element 'row' at 0x7f19dc14fc28>: 1,\n",
       "         <Element 'row' at 0x7f19dc14ff98>: 1,\n",
       "         <Element 'row' at 0x7f19dc152368>: 1,\n",
       "         <Element 'row' at 0x7f19dc1526d8>: 1,\n",
       "         <Element 'row' at 0x7f19dc152a48>: 1,\n",
       "         <Element 'row' at 0x7f19dc152db8>: 1,\n",
       "         <Element 'row' at 0x7f19dc154188>: 1,\n",
       "         <Element 'row' at 0x7f19dc1544f8>: 1,\n",
       "         <Element 'row' at 0x7f19dc154868>: 1,\n",
       "         <Element 'row' at 0x7f19dc154c28>: 1,\n",
       "         <Element 'row' at 0x7f19dc154f98>: 1,\n",
       "         <Element 'row' at 0x7f19dc155368>: 1,\n",
       "         <Element 'row' at 0x7f19dc1556d8>: 1,\n",
       "         <Element 'row' at 0x7f19dc155a48>: 1,\n",
       "         <Element 'row' at 0x7f19dc155db8>: 1,\n",
       "         <Element 'row' at 0x7f19dc157188>: 1,\n",
       "         <Element 'row' at 0x7f19dc1574f8>: 1,\n",
       "         <Element 'row' at 0x7f19dc157868>: 1,\n",
       "         <Element 'row' at 0x7f19dc157bd8>: 1,\n",
       "         <Element 'row' at 0x7f19dc157f48>: 1,\n",
       "         <Element 'row' at 0x7f19dc159318>: 1,\n",
       "         <Element 'row' at 0x7f19dc159638>: 1,\n",
       "         <Element 'row' at 0x7f19dc3b81d8>: 1,\n",
       "         <Element 'row' at 0x7f19dc159b88>: 1,\n",
       "         <Element 'row' at 0x7f19dc159ef8>: 1,\n",
       "         <Element 'row' at 0x7f19dc3ca2c8>: 1,\n",
       "         <Element 'row' at 0x7f19dc3ca638>: 1,\n",
       "         <Element 'row' at 0x7f19dc3ca9a8>: 1,\n",
       "         <Element 'row' at 0x7f19dc3cad18>: 1,\n",
       "         <Element 'row' at 0x7f19dc15b0e8>: 1,\n",
       "         <Element 'row' at 0x7f19dc15b458>: 1,\n",
       "         <Element 'row' at 0x7f19dc15b7c8>: 1,\n",
       "         <Element 'row' at 0x7f19dc15bb88>: 1,\n",
       "         <Element 'row' at 0x7f19dc15bf48>: 1,\n",
       "         <Element 'row' at 0x7f19dc15e318>: 1,\n",
       "         <Element 'row' at 0x7f19dc15e638>: 1,\n",
       "         <Element 'row' at 0x7f19dc15e9a8>: 1,\n",
       "         <Element 'row' at 0x7f19dc15ed18>: 1,\n",
       "         <Element 'row' at 0x7f19dc15f0e8>: 1,\n",
       "         <Element 'row' at 0x7f19dc15f458>: 1,\n",
       "         <Element 'row' at 0x7f19dc15f7c8>: 1,\n",
       "         <Element 'row' at 0x7f19dc15fb38>: 1,\n",
       "         <Element 'row' at 0x7f19dc15fea8>: 1,\n",
       "         <Element 'row' at 0x7f19dc161278>: 1,\n",
       "         <Element 'row' at 0x7f19dc1615e8>: 1,\n",
       "         <Element 'row' at 0x7f19dc161958>: 1,\n",
       "         <Element 'row' at 0x7f19dc161cc8>: 1,\n",
       "         <Element 'row' at 0x7f19dc166098>: 1,\n",
       "         <Element 'row' at 0x7f19dc166408>: 1,\n",
       "         <Element 'row' at 0x7f19dc166728>: 1,\n",
       "         <Element 'row' at 0x7f19dc166a98>: 1,\n",
       "         <Element 'row' at 0x7f19dc166e08>: 1,\n",
       "         <Element 'row' at 0x7f19dc1681d8>: 1,\n",
       "         <Element 'row' at 0x7f19dc168548>: 1,\n",
       "         <Element 'row' at 0x7f19dc168868>: 1,\n",
       "         <Element 'row' at 0x7f19dc168bd8>: 1,\n",
       "         <Element 'row' at 0x7f19dc168f48>: 1,\n",
       "         <Element 'row' at 0x7f19dc169318>: 1,\n",
       "         <Element 'row' at 0x7f19dc169688>: 1,\n",
       "         <Element 'row' at 0x7f19dc1699f8>: 1,\n",
       "         <Element 'row' at 0x7f19dc169d18>: 1,\n",
       "         <Element 'row' at 0x7f19dc16a0e8>: 1,\n",
       "         <Element 'row' at 0x7f19dc16a458>: 1,\n",
       "         <Element 'row' at 0x7f19dc16a7c8>: 1,\n",
       "         <Element 'row' at 0x7f19dc16ab38>: 1,\n",
       "         <Element 'row' at 0x7f19dc16aea8>: 1,\n",
       "         <Element 'row' at 0x7f19dc16d278>: 1,\n",
       "         <Element 'row' at 0x7f19dc16d5e8>: 1,\n",
       "         <Element 'row' at 0x7f19dc16d958>: 1,\n",
       "         <Element 'row' at 0x7f19dc16dc78>: 1,\n",
       "         <Element 'row' at 0x7f19dc170048>: 1,\n",
       "         <Element 'row' at 0x7f19dc1703b8>: 1,\n",
       "         <Element 'row' at 0x7f19dc1706d8>: 1,\n",
       "         <Element 'row' at 0x7f19dc170a48>: 1,\n",
       "         <Element 'row' at 0x7f19dc170db8>: 1,\n",
       "         <Element 'row' at 0x7f19dc171138>: 1,\n",
       "         <Element 'row' at 0x7f19dc1714a8>: 1,\n",
       "         <Element 'row' at 0x7f19dc171818>: 1,\n",
       "         <Element 'row' at 0x7f19dc171b88>: 1,\n",
       "         <Element 'row' at 0x7f19dc171ef8>: 1,\n",
       "         <Element 'row' at 0x7f19dc1742c8>: 1,\n",
       "         <Element 'row' at 0x7f19dc39ef48>: 1,\n",
       "         <Element 'row' at 0x7f19de4d1638>: 1,\n",
       "         <Element 'row' at 0x7f19dc174868>: 1,\n",
       "         <Element 'row' at 0x7f19dc174b88>: 1,\n",
       "         <Element 'row' at 0x7f19dc174ef8>: 1,\n",
       "         <Element 'row' at 0x7f19dc1762c8>: 1,\n",
       "         <Element 'row' at 0x7f19dc176638>: 1,\n",
       "         <Element 'row' at 0x7f19dc1769a8>: 1,\n",
       "         <Element 'row' at 0x7f19dc176d18>: 1,\n",
       "         <Element 'row' at 0x7f19dc1780e8>: 1,\n",
       "         <Element 'row' at 0x7f19dc178458>: 1,\n",
       "         <Element 'row' at 0x7f19dc1787c8>: 1,\n",
       "         <Element 'row' at 0x7f19dc178b38>: 1,\n",
       "         <Element 'row' at 0x7f19dc178ea8>: 1,\n",
       "         <Element 'row' at 0x7f19dc179278>: 1,\n",
       "         <Element 'row' at 0x7f19dc1795e8>: 1,\n",
       "         <Element 'row' at 0x7f19dc179958>: 1,\n",
       "         <Element 'row' at 0x7f19dc179cc8>: 1,\n",
       "         <Element 'row' at 0x7f19dc17b098>: 1,\n",
       "         <Element 'row' at 0x7f19dc17b408>: 1,\n",
       "         <Element 'row' at 0x7f19dc17b778>: 1,\n",
       "         <Element 'row' at 0x7f19dc17bae8>: 1,\n",
       "         <Element 'row' at 0x7f19dc17be58>: 1,\n",
       "         <Element 'row' at 0x7f19dc17c228>: 1,\n",
       "         <Element 'row' at 0x7f19dc17c598>: 1,\n",
       "         <Element 'row' at 0x7f19dc17c908>: 1,\n",
       "         <Element 'row' at 0x7f19dc17cc78>: 1,\n",
       "         <Element 'row' at 0x7f19dc17f048>: 1,\n",
       "         <Element 'row' at 0x7f19dc17f3b8>: 1,\n",
       "         <Element 'row' at 0x7f19dc17f728>: 1,\n",
       "         <Element 'row' at 0x7f19dc17fa98>: 1,\n",
       "         <Element 'row' at 0x7f19dc17fdb8>: 1,\n",
       "         <Element 'row' at 0x7f19dc180188>: 1,\n",
       "         <Element 'row' at 0x7f19dc1804f8>: 1,\n",
       "         <Element 'row' at 0x7f19dc180868>: 1,\n",
       "         <Element 'row' at 0x7f19dc180bd8>: 1,\n",
       "         <Element 'row' at 0x7f19dc180ef8>: 1,\n",
       "         <Element 'row' at 0x7f19dc1812c8>: 1,\n",
       "         <Element 'row' at 0x7f19dc181638>: 1,\n",
       "         <Element 'row' at 0x7f19dc1819a8>: 1,\n",
       "         <Element 'row' at 0x7f19dc181d18>: 1,\n",
       "         <Element 'row' at 0x7f19dc1820e8>: 1,\n",
       "         <Element 'row' at 0x7f19dc182458>: 1,\n",
       "         <Element 'row' at 0x7f19dc1827c8>: 1,\n",
       "         <Element 'row' at 0x7f19dc182b38>: 1,\n",
       "         <Element 'row' at 0x7f19dc182ea8>: 1,\n",
       "         <Element 'row' at 0x7f19dc105278>: 1,\n",
       "         <Element 'row' at 0x7f19dc1055e8>: 1,\n",
       "         <Element 'row' at 0x7f19dc105958>: 1,\n",
       "         <Element 'row' at 0x7f19dc105cc8>: 1,\n",
       "         <Element 'row' at 0x7f19dc108098>: 1,\n",
       "         <Element 'row' at 0x7f19dc108408>: 1,\n",
       "         <Element 'row' at 0x7f19dc108778>: 1,\n",
       "         <Element 'row' at 0x7f19dc108ae8>: 1,\n",
       "         <Element 'row' at 0x7f19dc108e58>: 1,\n",
       "         <Element 'row' at 0x7f19dc10a228>: 1,\n",
       "         <Element 'row' at 0x7f19dc10a5e8>: 1,\n",
       "         <Element 'row' at 0x7f19dc10a958>: 1,\n",
       "         <Element 'row' at 0x7f19dc10acc8>: 1,\n",
       "         <Element 'row' at 0x7f19dc10c098>: 1,\n",
       "         <Element 'row' at 0x7f19dc10c408>: 1,\n",
       "         <Element 'row' at 0x7f19dc10c778>: 1,\n",
       "         <Element 'row' at 0x7f19dc10cae8>: 1,\n",
       "         <Element 'row' at 0x7f19dc10ce58>: 1,\n",
       "         <Element 'row' at 0x7f19dc10d228>: 1,\n",
       "         <Element 'row' at 0x7f19dc10d598>: 1,\n",
       "         <Element 'row' at 0x7f19dc10d908>: 1,\n",
       "         <Element 'row' at 0x7f19dc10dc78>: 1,\n",
       "         <Element 'row' at 0x7f19dc10f048>: 1,\n",
       "         <Element 'row' at 0x7f19dc10f3b8>: 1,\n",
       "         <Element 'row' at 0x7f19dc10f728>: 1,\n",
       "         <Element 'row' at 0x7f19dc10fa98>: 1,\n",
       "         <Element 'row' at 0x7f19dc10fe08>: 1,\n",
       "         <Element 'row' at 0x7f19dc1111d8>: 1,\n",
       "         <Element 'row' at 0x7f19dc111548>: 1,\n",
       "         <Element 'row' at 0x7f19dc1118b8>: 1,\n",
       "         <Element 'row' at 0x7f19dc111c28>: 1,\n",
       "         <Element 'row' at 0x7f19dc111f98>: 1,\n",
       "         <Element 'row' at 0x7f19dc113368>: 1,\n",
       "         <Element 'row' at 0x7f19dc1136d8>: 1,\n",
       "         <Element 'row' at 0x7f19dc113a48>: 1,\n",
       "         <Element 'row' at 0x7f19dc113db8>: 1,\n",
       "         <Element 'row' at 0x7f19dc116188>: 1,\n",
       "         <Element 'row' at 0x7f19dc1164f8>: 1,\n",
       "         <Element 'row' at 0x7f19dc116868>: 1,\n",
       "         <Element 'row' at 0x7f19dc116bd8>: 1,\n",
       "         <Element 'row' at 0x7f19dc116f48>: 1,\n",
       "         <Element 'row' at 0x7f19dc117318>: 1,\n",
       "         <Element 'row' at 0x7f19dc117688>: 1,\n",
       "         <Element 'row' at 0x7f19dc1179f8>: 1,\n",
       "         <Element 'row' at 0x7f19dc117d68>: 1,\n",
       "         <Element 'row' at 0x7f19dc11b138>: 1,\n",
       "         <Element 'row' at 0x7f19dc11b4a8>: 1,\n",
       "         <Element 'row' at 0x7f19dc11b818>: 1,\n",
       "         <Element 'row' at 0x7f19dc11bb88>: 1,\n",
       "         <Element 'row' at 0x7f19dc11bef8>: 1,\n",
       "         <Element 'row' at 0x7f19dc11c2c8>: 1,\n",
       "         <Element 'row' at 0x7f19dc11c638>: 1,\n",
       "         <Element 'row' at 0x7f19dc11c9a8>: 1,\n",
       "         <Element 'row' at 0x7f19dc11cd18>: 1,\n",
       "         <Element 'row' at 0x7f19dc11e0e8>: 1,\n",
       "         <Element 'row' at 0x7f19dc11e458>: 1,\n",
       "         <Element 'row' at 0x7f19dc11e7c8>: 1,\n",
       "         <Element 'row' at 0x7f19dc11eb38>: 1,\n",
       "         <Element 'row' at 0x7f19dc11eea8>: 1,\n",
       "         <Element 'row' at 0x7f19dc121278>: 1,\n",
       "         <Element 'row' at 0x7f19dc1215e8>: 1,\n",
       "         <Element 'row' at 0x7f19dc121958>: 1,\n",
       "         <Element 'row' at 0x7f19dc121cc8>: 1,\n",
       "         <Element 'row' at 0x7f19dc124098>: 1,\n",
       "         <Element 'row' at 0x7f19dc124408>: 1,\n",
       "         <Element 'row' at 0x7f19dc124778>: 1,\n",
       "         <Element 'row' at 0x7f19dc124ae8>: 1,\n",
       "         <Element 'row' at 0x7f19dc124e58>: 1,\n",
       "         <Element 'row' at 0x7f19dc125228>: 1,\n",
       "         <Element 'row' at 0x7f19dc125598>: 1,\n",
       "         <Element 'row' at 0x7f19dc125908>: 1,\n",
       "         <Element 'row' at 0x7f19dc125c78>: 1,\n",
       "         <Element 'row' at 0x7f19dc128048>: 1,\n",
       "         <Element 'row' at 0x7f19dc1283b8>: 1,\n",
       "         <Element 'row' at 0x7f19dc128728>: 1,\n",
       "         <Element 'row' at 0x7f19dc128a98>: 1,\n",
       "         <Element 'row' at 0x7f19dc128e08>: 1,\n",
       "         <Element 'row' at 0x7f19dc1291d8>: 1,\n",
       "         <Element 'row' at 0x7f19dc129548>: 1,\n",
       "         <Element 'row' at 0x7f19dc129868>: 1,\n",
       "         <Element 'row' at 0x7f19dc129bd8>: 1,\n",
       "         <Element 'row' at 0x7f19dc129f48>: 1,\n",
       "         <Element 'row' at 0x7f19dc12c318>: 1,\n",
       "         <Element 'row' at 0x7f19dc12c688>: 1,\n",
       "         <Element 'row' at 0x7f19dc12c9f8>: 1,\n",
       "         <Element 'row' at 0x7f19dc12cd68>: 1,\n",
       "         <Element 'row' at 0x7f19dc12f138>: 1,\n",
       "         <Element 'row' at 0x7f19dc12f4a8>: 1,\n",
       "         <Element 'row' at 0x7f19dc12f818>: 1,\n",
       "         <Element 'row' at 0x7f19dc12fb38>: 1,\n",
       "         <Element 'row' at 0x7f19dc12fea8>: 1,\n",
       "         <Element 'row' at 0x7f19dc130278>: 1,\n",
       "         <Element 'row' at 0x7f19dc1305e8>: 1,\n",
       "         <Element 'row' at 0x7f19dc130958>: 1,\n",
       "         <Element 'row' at 0x7f19dc130c78>: 1,\n",
       "         <Element 'row' at 0x7f19dc132048>: 1,\n",
       "         <Element 'row' at 0x7f19dc1323b8>: 1,\n",
       "         <Element 'row' at 0x7f19dc132728>: 1,\n",
       "         <Element 'row' at 0x7f19dc132a98>: 1,\n",
       "         <Element 'row' at 0x7f19dc132e08>: 1,\n",
       "         <Element 'row' at 0x7f19dc1351d8>: 1,\n",
       "         <Element 'row' at 0x7f19dc135548>: 1,\n",
       "         <Element 'row' at 0x7f19dc1358b8>: 1,\n",
       "         <Element 'row' at 0x7f19dc135c28>: 1,\n",
       "         <Element 'row' at 0x7f19dc135f98>: 1,\n",
       "         <Element 'row' at 0x7f19dc137368>: 1,\n",
       "         <Element 'row' at 0x7f19dc137688>: 1,\n",
       "         <Element 'row' at 0x7f19dc1379f8>: 1,\n",
       "         <Element 'row' at 0x7f19dc137d68>: 1,\n",
       "         <Element 'row' at 0x7f19dc139138>: 1,\n",
       "         <Element 'row' at 0x7f19dc1394a8>: 1,\n",
       "         <Element 'row' at 0x7f19dc139818>: 1,\n",
       "         <Element 'row' at 0x7f19dc139b88>: 1,\n",
       "         <Element 'row' at 0x7f19dc139ef8>: 1,\n",
       "         <Element 'row' at 0x7f19dc13b2c8>: 1,\n",
       "         <Element 'row' at 0x7f19dc13b638>: 1,\n",
       "         <Element 'row' at 0x7f19dc13b9a8>: 1,\n",
       "         <Element 'row' at 0x7f19dc13bd18>: 1,\n",
       "         <Element 'row' at 0x7f19dc13e0e8>: 1,\n",
       "         <Element 'row' at 0x7f19dc13e458>: 1,\n",
       "         <Element 'row' at 0x7f19dc13e7c8>: 1,\n",
       "         <Element 'row' at 0x7f19dc13eb38>: 1,\n",
       "         <Element 'row' at 0x7f19dc13eea8>: 1,\n",
       "         <Element 'row' at 0x7f19dc140278>: 1,\n",
       "         <Element 'row' at 0x7f19dc140598>: 1,\n",
       "         <Element 'row' at 0x7f19dc140908>: 1,\n",
       "         <Element 'row' at 0x7f19dc140c78>: 1,\n",
       "         <Element 'row' at 0x7f19dc142098>: 1,\n",
       "         <Element 'row' at 0x7f19dc142408>: 1,\n",
       "         <Element 'row' at 0x7f19dc142778>: 1,\n",
       "         <Element 'row' at 0x7f19dc142ae8>: 1,\n",
       "         <Element 'row' at 0x7f19dc142e58>: 1,\n",
       "         <Element 'row' at 0x7f19dc0c5228>: 1})"
      ]
     },
     "execution_count": 14,
     "metadata": {},
     "output_type": "execute_result"
    }
   ],
   "source": [
    "Counter(root.iter('row'))"
   ]
  },
  {
   "cell_type": "code",
   "execution_count": 11,
   "metadata": {},
   "outputs": [],
   "source": [
    "dfs = []\n",
    "for n, element in enumerate(root.iter('row')):\n",
    "    if n > 0:\n",
    "        dfs.append(pd.DataFrame.from_dict(element.attrib, orient='index').transpose())\n",
    "df = pd.concat(dfs)\n",
    "print(len(df))\n",
    "df.head()"
   ]
  },
  {
   "cell_type": "markdown",
   "metadata": {},
   "source": [
    "## JSON"
   ]
  },
  {
   "cell_type": "markdown",
   "metadata": {},
   "source": [
    "### Open the same dataset from json"
   ]
  },
  {
   "cell_type": "code",
   "execution_count": null,
   "metadata": {},
   "outputs": [],
   "source": [
    "#Your code here"
   ]
  },
  {
   "cell_type": "markdown",
   "metadata": {},
   "source": [
    "### What is the root data type of the json file?"
   ]
  },
  {
   "cell_type": "code",
   "execution_count": null,
   "metadata": {},
   "outputs": [],
   "source": [
    "### Your code here"
   ]
  },
  {
   "cell_type": "markdown",
   "metadata": {},
   "source": [
    "### Navigate to the 'data' key of your loaded json object. What data type is this?"
   ]
  },
  {
   "cell_type": "code",
   "execution_count": null,
   "metadata": {},
   "outputs": [],
   "source": [
    "#Your code here"
   ]
  },
  {
   "cell_type": "markdown",
   "metadata": {},
   "source": [
    "### Preview the first entry from the value returned by the 'data' key above."
   ]
  },
  {
   "cell_type": "code",
   "execution_count": null,
   "metadata": {},
   "outputs": [],
   "source": [
    "#Your code here"
   ]
  },
  {
   "cell_type": "markdown",
   "metadata": {},
   "source": [
    "### Preview the Entry under meta -> view -> columns (the keys of three successively nested dictionaries)"
   ]
  },
  {
   "cell_type": "code",
   "execution_count": null,
   "metadata": {},
   "outputs": [],
   "source": []
  },
  {
   "cell_type": "markdown",
   "metadata": {},
   "source": [
    "### Create a DataFrame from your json data\n",
    "The previous two questions previewed one entry from the data object within the json file, as well as the column details associated with that data from the meta entry within the json file. Both should have 19 entries. Create a DataFrame of the data. Be sure to use the information from the meta entry to add appropriate column names to your DataFrame."
   ]
  },
  {
   "cell_type": "code",
   "execution_count": null,
   "metadata": {},
   "outputs": [],
   "source": [
    "#Your code here"
   ]
  },
  {
   "cell_type": "markdown",
   "metadata": {},
   "source": [
    "### What's wrong with the first row of the DataFrame?"
   ]
  },
  {
   "cell_type": "code",
   "execution_count": null,
   "metadata": {},
   "outputs": [],
   "source": [
    "#Your code here"
   ]
  },
  {
   "cell_type": "markdown",
   "metadata": {},
   "source": [
    "#Your answer here"
   ]
  },
  {
   "cell_type": "markdown",
   "metadata": {},
   "source": [
    "## Summary\n",
    "\n",
    "Congratulations! You've started exploring some more complicated data structures used for the web and got to practice data munging and exploring!"
   ]
  }
 ],
 "metadata": {
  "kernelspec": {
   "display_name": "Python 3",
   "language": "python",
   "name": "python3"
  },
  "language_info": {
   "codemirror_mode": {
    "name": "ipython",
    "version": 3
   },
   "file_extension": ".py",
   "mimetype": "text/x-python",
   "name": "python",
   "nbconvert_exporter": "python",
   "pygments_lexer": "ipython3",
   "version": "3.6.6"
  }
 },
 "nbformat": 4,
 "nbformat_minor": 2
}
